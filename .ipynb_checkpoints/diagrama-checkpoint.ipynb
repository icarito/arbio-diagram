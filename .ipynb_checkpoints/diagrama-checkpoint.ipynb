{
 "cells": [
  {
   "cell_type": "markdown",
   "metadata": {},
   "source": [
    "# Diagramación de una Chacra para Forestería Análoga"
   ]
  },
  {
   "cell_type": "markdown",
   "metadata": {},
   "source": [
    "### © Equipo I+D SomosAZUCAR - Bajo licencia AGPLv3\n",
    "\n",
    "```\n",
    "Diagramador de Planos para Forestería Análoga\n",
    "Copyright (C) 2015 Sebastian Silva\n",
    "\n",
    "This program is free software: you can redistribute it and/or modify\n",
    "it under the terms of the GNU Affero General Public License as published by\n",
    "the Free Software Foundation, either version 3 of the License, or\n",
    "(at your option) any later version.\n",
    "\n",
    "This program is distributed in the hope that it will be useful,\n",
    "but WITHOUT ANY WARRANTY; without even the implied warranty of\n",
    "MERCHANTABILITY or FITNESS FOR A PARTICULAR PURPOSE.  See the\n",
    "GNU Affero General Public License for more details.\n",
    "\n",
    "You should have received a copy of the GNU Affero General Public License\n",
    "along with this program.  If not, see <http://www.gnu.org/licenses/>.\n",
    "```"
   ]
  },
  {
   "cell_type": "code",
   "execution_count": null,
   "metadata": {
    "collapsed": false
   },
   "outputs": [],
   "source": [
    "# Bibliotecas utilizadas para confeccionar el mapa\n",
    "%matplotlib inline\n",
    "import matplotlib.pyplot as plt\n",
    "from shapely import geometry\n",
    "import numpy as np\n",
    "import pandas as pd\n",
    "import random\n",
    "import mpld3\n",
    "from tqdm import tqdm\n",
    "#import cartopy.crs as ccrs"
   ]
  },
  {
   "cell_type": "markdown",
   "metadata": {},
   "source": [
    "## 1.- DATOS INICIALES\n",
    "### © Arbio - licencia por definir"
   ]
  },
  {
   "cell_type": "markdown",
   "metadata": {},
   "source": [
    "La base de datos consiste en una lista de especies, cantidades, diámetro y otras características."
   ]
  },
  {
   "cell_type": "code",
   "execution_count": null,
   "metadata": {
    "collapsed": false
   },
   "outputs": [],
   "source": [
    "especies = pd.read_csv(\"db.csv\") ## Es una base\n",
    "#especies = especies[(especies.estrato==3)]\n",
    "especies = especies.sort('estrato', ascending=False)\n",
    "especies"
   ]
  },
  {
   "cell_type": "code",
   "execution_count": null,
   "metadata": {
    "collapsed": false
   },
   "outputs": [],
   "source": [
    "consolidado = pd.DataFrame({'especies':especies.groupby('estrato').size(), \n",
    "                            'individuos':especies.groupby('estrato')['cantidad'].sum()})\n",
    "pd.concat([consolidado,pd.DataFrame(consolidado.sum(axis=0),columns=['Total']).T])\n"
   ]
  },
  {
   "cell_type": "markdown",
   "metadata": {},
   "source": [
    "## 2.- LINDEROS DE LA CHACRA"
   ]
  },
  {
   "cell_type": "markdown",
   "metadata": {},
   "source": [
    "Los linderos están definidos como un polígono en metros, desde una de las esquinas."
   ]
  },
  {
   "cell_type": "code",
   "execution_count": null,
   "metadata": {
    "collapsed": false
   },
   "outputs": [],
   "source": [
    "chacra = geometry.Polygon([ [0,0],\n",
    "                            [0, 93],\n",
    "                            [55, 93],\n",
    "                            [55, 86],\n",
    "                            [35, 65],\n",
    "                            [37.5, 47.5],\n",
    "                            [55, 44],\n",
    "                            [65, 52.5],\n",
    "                            [65, 0] ])\n",
    "chacra"
   ]
  },
  {
   "cell_type": "code",
   "execution_count": null,
   "metadata": {
    "collapsed": false
   },
   "outputs": [],
   "source": [
    "chacra2 = geometry.Polygon([ [0,0],\n",
    "                            [0, 55],\n",
    "                            [92, 54],\n",
    "                            [92,0], \n",
    "                          ])\n",
    "chacra2"
   ]
  },
  {
   "cell_type": "markdown",
   "metadata": {},
   "source": [
    "## 3.- Definir ubicaciones"
   ]
  },
  {
   "cell_type": "code",
   "execution_count": null,
   "metadata": {
    "collapsed": true
   },
   "outputs": [],
   "source": [
    "def punto_aleatorio(poligono):\n",
    "    (minx, miny, maxx, maxy) = poligono.bounds\n",
    "    while True:\n",
    "        p = geometry.Point(random.uniform(minx, maxx), random.uniform(miny, maxy))\n",
    "        if poligono.contains(p):\n",
    "            return(p)"
   ]
  },
  {
   "cell_type": "code",
   "execution_count": null,
   "metadata": {
    "collapsed": false
   },
   "outputs": [],
   "source": [
    "class Poblacion:\n",
    "    def __init__(self, poligono, especies):\n",
    "        self.poligono = poligono\n",
    "        individuos_columns = ['id', 'pos', 'x', 'y', 'color', 'diametro', 'nombre']\n",
    "        self.individuos = pd.DataFrame(columns=individuos_columns, )\n",
    "        indice = 0\n",
    "        for especie in tqdm(list(especies.itertuples())):\n",
    "            n_especie = especie[0]\n",
    "            color_especie = np.random.rand(3,)\n",
    "            planta_tipo = especies.loc[n_especie]\n",
    "            total = len(self.individuos)\n",
    "            for n_individuo in range(especies.cantidad[n_especie]):\n",
    "                indice = indice + 1\n",
    "                planta = planta_tipo.copy()\n",
    "                planta['id'] = n_especie\n",
    "                planta = self.ubicar(planta)\n",
    "                if planta['pos']:\n",
    "                    planta['color'] = color_especie\n",
    "                    planta['diametro'] = int(float(planta['diametro'])*10)\n",
    "                    self.individuos.loc[indice] = planta\n",
    "                self.individuos = self.individuos.dropna()\n",
    "    \n",
    "    def regla_1(self, planta):\n",
    "            # Regla 1: La distancia al lindero debe ser mayor que la mitad de la altura\n",
    "            if planta.pos.distance(self.poligono.exterior) < planta.altura * 0.75:\n",
    "                raise ValueError('regla1')\n",
    "                \n",
    "    def regla_2(self, planta):\n",
    "            for anterior in self.individuos.itertuples():\n",
    "                #if anterior[1] == planta.id:\n",
    "                if planta.pos.distance(anterior[2]) < planta.distancia/2:\n",
    "                    raise ValueError('regla2')\n",
    "                        \n",
    "    def ubicar(self, planta):\n",
    "        intentos = 100\n",
    "        while intentos:\n",
    "            intentos = intentos - 1\n",
    "            distancia_min = 1 # 1m\n",
    "                \n",
    "            pos = punto_aleatorio(self.poligono)       \n",
    "            planta['pos'] = pos\n",
    "            planta['x'], planta['y'] = pos.xy\n",
    "            \n",
    "            try:\n",
    "                self.regla_1(planta)\n",
    "                self.regla_2(planta)\n",
    "            except ValueError as e:\n",
    "                #if e:\n",
    "                #    print (e)\n",
    "                next # vuelve a intentar\n",
    "            else:\n",
    "                return planta\n",
    "            \n",
    "        print (\"No se pudo ubicar una \"+especies.loc[planta.id].nombre)\n",
    "        planta['pos'] = None\n",
    "        return planta"
   ]
  },
  {
   "cell_type": "code",
   "execution_count": null,
   "metadata": {
    "collapsed": false
   },
   "outputs": [],
   "source": [
    "# Demora bastante\n",
    "pob = Poblacion(chacra2, especies)"
   ]
  },
  {
   "cell_type": "code",
   "execution_count": null,
   "metadata": {
    "collapsed": false
   },
   "outputs": [],
   "source": [
    "print (especies.cantidad.sum(axis=0), len(pob.individuos))"
   ]
  },
  {
   "cell_type": "markdown",
   "metadata": {},
   "source": [
    "## 4.- Graficar el mapa"
   ]
  },
  {
   "cell_type": "markdown",
   "metadata": {},
   "source": [
    "Empezamos por los linderos de la chacra."
   ]
  },
  {
   "cell_type": "code",
   "execution_count": null,
   "metadata": {
    "collapsed": false,
    "scrolled": false
   },
   "outputs": [],
   "source": [
    "fig = plt.figure(figsize=(6, 6))\n",
    "ax = fig.add_subplot(111)\n",
    "ax.set_ylim(-10,150)\n",
    "ax.set_xlim(-20,110)\n",
    "ax.plot( *chacra2.exterior.xy )\n",
    "points = ax.scatter(list(pob.individuos.x), \n",
    "           list(pob.individuos.y), \n",
    "           color=list(pob.individuos.color), \n",
    "           s=list(pob.individuos.diametro), \n",
    "           alpha=0.5)\n",
    "ax.grid(color='gray', alpha=0.9)"
   ]
  },
  {
   "cell_type": "code",
   "execution_count": null,
   "metadata": {
    "collapsed": false
   },
   "outputs": [],
   "source": [
    "from mpld3 import plugins\n",
    "# Gráfico interactivo\n",
    "#tooltip = plugins.PointLabelTooltip(points, pob.individuos.nombres)\n",
    "#mpld3.plugins.connect(fig, tooltip)\n",
    "mpld3.display(fig)\n"
   ]
  },
  {
   "cell_type": "code",
   "execution_count": null,
   "metadata": {
    "collapsed": true
   },
   "outputs": [],
   "source": [
    "import mplleaflet\n",
    "mplleaflet.show()"
   ]
  },
  {
   "cell_type": "code",
   "execution_count": null,
   "metadata": {
    "collapsed": true
   },
   "outputs": [],
   "source": []
  }
 ],
 "metadata": {
  "kernelspec": {
   "display_name": "Python 3",
   "language": "python",
   "name": "python3"
  },
  "language_info": {
   "codemirror_mode": {
    "name": "ipython",
    "version": 3
   },
   "file_extension": ".py",
   "mimetype": "text/x-python",
   "name": "python",
   "nbconvert_exporter": "python",
   "pygments_lexer": "ipython3",
   "version": "3.4.3+"
  }
 },
 "nbformat": 4,
 "nbformat_minor": 0
}
